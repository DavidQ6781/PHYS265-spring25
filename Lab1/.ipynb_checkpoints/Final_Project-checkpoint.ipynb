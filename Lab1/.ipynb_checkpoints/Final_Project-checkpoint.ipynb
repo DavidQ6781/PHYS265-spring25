{
 "cells": [
  {
   "cell_type": "code",
   "execution_count": 34,
   "id": "d071d9cb-319c-48a0-b287-be8d95903eeb",
   "metadata": {
    "editable": true,
    "slideshow": {
     "slide_type": ""
    },
    "tags": []
   },
   "outputs": [
    {
     "name": "stdout",
     "output_type": "stream",
     "text": [
      "Python 3.12.5\n"
     ]
    },
    {
     "ename": "TemplateNotFound",
     "evalue": "Unable to find array.html.j2 in dask.widgets.TEMPLATE_PATHS ['\\\\\\\\?\\\\C:\\\\Users\\\\david\\\\AppData\\\\Roaming\\\\jupyterlab-desktop\\\\jlab_server\\\\Lib\\\\site-packages\\\\dask\\\\widgets\\\\templates']",
     "output_type": "error",
     "traceback": [
      "\u001b[1;31m---------------------------------------------------------------------------\u001b[0m",
      "\u001b[1;31mTemplateNotFound\u001b[0m                          Traceback (most recent call last)",
      "File \u001b[1;32m\\\\?\\C:\\Users\\david\\AppData\\Roaming\\jupyterlab-desktop\\jlab_server\\Lib\\site-packages\\dask\\widgets\\widgets.py:36\u001b[0m, in \u001b[0;36mget_template\u001b[1;34m(name)\u001b[0m\n\u001b[0;32m     35\u001b[0m \u001b[38;5;28;01mtry\u001b[39;00m:\n\u001b[1;32m---> 36\u001b[0m     \u001b[38;5;28;01mreturn\u001b[39;00m \u001b[43mget_environment\u001b[49m\u001b[43m(\u001b[49m\u001b[43m)\u001b[49m\u001b[38;5;241;43m.\u001b[39;49m\u001b[43mget_template\u001b[49m\u001b[43m(\u001b[49m\u001b[43mname\u001b[49m\u001b[43m)\u001b[49m\n\u001b[0;32m     37\u001b[0m \u001b[38;5;28;01mexcept\u001b[39;00m TemplateNotFound \u001b[38;5;28;01mas\u001b[39;00m e:\n",
      "File \u001b[1;32m\\\\?\\C:\\Users\\david\\AppData\\Roaming\\jupyterlab-desktop\\jlab_server\\Lib\\site-packages\\jinja2\\environment.py:1013\u001b[0m, in \u001b[0;36mEnvironment.get_template\u001b[1;34m(self, name, parent, globals)\u001b[0m\n\u001b[0;32m   1011\u001b[0m     name \u001b[38;5;241m=\u001b[39m \u001b[38;5;28mself\u001b[39m\u001b[38;5;241m.\u001b[39mjoin_path(name, parent)\n\u001b[1;32m-> 1013\u001b[0m \u001b[38;5;28;01mreturn\u001b[39;00m \u001b[38;5;28;43mself\u001b[39;49m\u001b[38;5;241;43m.\u001b[39;49m\u001b[43m_load_template\u001b[49m\u001b[43m(\u001b[49m\u001b[43mname\u001b[49m\u001b[43m,\u001b[49m\u001b[43m \u001b[49m\u001b[38;5;28;43mglobals\u001b[39;49m\u001b[43m)\u001b[49m\n",
      "File \u001b[1;32m\\\\?\\C:\\Users\\david\\AppData\\Roaming\\jupyterlab-desktop\\jlab_server\\Lib\\site-packages\\jinja2\\environment.py:972\u001b[0m, in \u001b[0;36mEnvironment._load_template\u001b[1;34m(self, name, globals)\u001b[0m\n\u001b[0;32m    970\u001b[0m         \u001b[38;5;28;01mreturn\u001b[39;00m template\n\u001b[1;32m--> 972\u001b[0m template \u001b[38;5;241m=\u001b[39m \u001b[38;5;28;43mself\u001b[39;49m\u001b[38;5;241;43m.\u001b[39;49m\u001b[43mloader\u001b[49m\u001b[38;5;241;43m.\u001b[39;49m\u001b[43mload\u001b[49m\u001b[43m(\u001b[49m\u001b[38;5;28;43mself\u001b[39;49m\u001b[43m,\u001b[49m\u001b[43m \u001b[49m\u001b[43mname\u001b[49m\u001b[43m,\u001b[49m\u001b[43m \u001b[49m\u001b[38;5;28;43mself\u001b[39;49m\u001b[38;5;241;43m.\u001b[39;49m\u001b[43mmake_globals\u001b[49m\u001b[43m(\u001b[49m\u001b[38;5;28;43mglobals\u001b[39;49m\u001b[43m)\u001b[49m\u001b[43m)\u001b[49m\n\u001b[0;32m    974\u001b[0m \u001b[38;5;28;01mif\u001b[39;00m \u001b[38;5;28mself\u001b[39m\u001b[38;5;241m.\u001b[39mcache \u001b[38;5;129;01mis\u001b[39;00m \u001b[38;5;129;01mnot\u001b[39;00m \u001b[38;5;28;01mNone\u001b[39;00m:\n",
      "File \u001b[1;32m\\\\?\\C:\\Users\\david\\AppData\\Roaming\\jupyterlab-desktop\\jlab_server\\Lib\\site-packages\\jinja2\\loaders.py:126\u001b[0m, in \u001b[0;36mBaseLoader.load\u001b[1;34m(self, environment, name, globals)\u001b[0m\n\u001b[0;32m    124\u001b[0m \u001b[38;5;66;03m# first we try to get the source for this template together\u001b[39;00m\n\u001b[0;32m    125\u001b[0m \u001b[38;5;66;03m# with the filename and the uptodate function.\u001b[39;00m\n\u001b[1;32m--> 126\u001b[0m source, filename, uptodate \u001b[38;5;241m=\u001b[39m \u001b[38;5;28;43mself\u001b[39;49m\u001b[38;5;241;43m.\u001b[39;49m\u001b[43mget_source\u001b[49m\u001b[43m(\u001b[49m\u001b[43menvironment\u001b[49m\u001b[43m,\u001b[49m\u001b[43m \u001b[49m\u001b[43mname\u001b[49m\u001b[43m)\u001b[49m\n\u001b[0;32m    128\u001b[0m \u001b[38;5;66;03m# try to load the code from the bytecode cache if there is a\u001b[39;00m\n\u001b[0;32m    129\u001b[0m \u001b[38;5;66;03m# bytecode cache configured.\u001b[39;00m\n",
      "File \u001b[1;32m\\\\?\\C:\\Users\\david\\AppData\\Roaming\\jupyterlab-desktop\\jlab_server\\Lib\\site-packages\\jinja2\\loaders.py:207\u001b[0m, in \u001b[0;36mFileSystemLoader.get_source\u001b[1;34m(self, environment, template)\u001b[0m\n\u001b[0;32m    206\u001b[0m \u001b[38;5;28;01melse\u001b[39;00m:\n\u001b[1;32m--> 207\u001b[0m     \u001b[38;5;28;01mraise\u001b[39;00m TemplateNotFound(template)\n\u001b[0;32m    209\u001b[0m \u001b[38;5;28;01mwith\u001b[39;00m \u001b[38;5;28mopen\u001b[39m(filename, encoding\u001b[38;5;241m=\u001b[39m\u001b[38;5;28mself\u001b[39m\u001b[38;5;241m.\u001b[39mencoding) \u001b[38;5;28;01mas\u001b[39;00m f:\n",
      "\u001b[1;31mTemplateNotFound\u001b[0m: array.html.j2",
      "\nThe above exception was the direct cause of the following exception:\n",
      "\u001b[1;31mTemplateNotFound\u001b[0m                          Traceback (most recent call last)",
      "Cell \u001b[1;32mIn[34], line 9\u001b[0m\n\u001b[0;32m      7\u001b[0m \u001b[38;5;28;01mimport\u001b[39;00m \u001b[38;5;21;01mfsspec\u001b[39;00m\n\u001b[0;32m      8\u001b[0m get_ipython()\u001b[38;5;241m.\u001b[39msystem(\u001b[38;5;124m'\u001b[39m\u001b[38;5;124mpython --version\u001b[39m\u001b[38;5;124m'\u001b[39m)\n\u001b[1;32m----> 9\u001b[0m \u001b[38;5;28;01mimport\u001b[39;00m \u001b[38;5;21;01mreproject\u001b[39;00m\n\u001b[0;32m     11\u001b[0m \u001b[38;5;28mprint\u001b[39m(np\u001b[38;5;241m.\u001b[39m__version__)\n\u001b[0;32m     12\u001b[0m \u001b[38;5;28mprint\u001b[39m(ast\u001b[38;5;241m.\u001b[39m__version__)\n",
      "File \u001b[1;32m\\\\?\\C:\\Users\\david\\AppData\\Roaming\\jupyterlab-desktop\\jlab_server\\Lib\\site-packages\\reproject\\__init__.py:5\u001b[0m\n\u001b[0;32m      1\u001b[0m \u001b[38;5;66;03m# Licensed under a 3-clause BSD style license - see LICENSE.rst\u001b[39;00m\n\u001b[0;32m      2\u001b[0m \u001b[38;5;124;03m\"\"\"\u001b[39;00m\n\u001b[0;32m      3\u001b[0m \u001b[38;5;124;03mAstropy affiliated package for image reprojection (resampling).\u001b[39;00m\n\u001b[0;32m      4\u001b[0m \u001b[38;5;124;03m\"\"\"\u001b[39;00m\n\u001b[1;32m----> 5\u001b[0m \u001b[38;5;28;01mfrom\u001b[39;00m \u001b[38;5;21;01m.\u001b[39;00m\u001b[38;5;21;01madaptive\u001b[39;00m \u001b[38;5;28;01mimport\u001b[39;00m reproject_adaptive  \u001b[38;5;66;03m# noqa\u001b[39;00m\n\u001b[0;32m      6\u001b[0m \u001b[38;5;28;01mfrom\u001b[39;00m \u001b[38;5;21;01m.\u001b[39;00m\u001b[38;5;21;01mhealpix\u001b[39;00m \u001b[38;5;28;01mimport\u001b[39;00m reproject_from_healpix, reproject_to_healpix  \u001b[38;5;66;03m# noqa\u001b[39;00m\n\u001b[0;32m      7\u001b[0m \u001b[38;5;28;01mfrom\u001b[39;00m \u001b[38;5;21;01m.\u001b[39;00m\u001b[38;5;21;01minterpolation\u001b[39;00m \u001b[38;5;28;01mimport\u001b[39;00m reproject_interp  \u001b[38;5;66;03m# noqa\u001b[39;00m\n",
      "File \u001b[1;32m\\\\?\\C:\\Users\\david\\AppData\\Roaming\\jupyterlab-desktop\\jlab_server\\Lib\\site-packages\\reproject\\adaptive\\__init__.py:1\u001b[0m\n\u001b[1;32m----> 1\u001b[0m \u001b[38;5;28;01mfrom\u001b[39;00m \u001b[38;5;21;01m.\u001b[39;00m\u001b[38;5;21;01mhigh_level\u001b[39;00m \u001b[38;5;28;01mimport\u001b[39;00m reproject_adaptive  \u001b[38;5;66;03m# noqa\u001b[39;00m\n",
      "File \u001b[1;32m\\\\?\\C:\\Users\\david\\AppData\\Roaming\\jupyterlab-desktop\\jlab_server\\Lib\\site-packages\\reproject\\adaptive\\high_level.py:3\u001b[0m\n\u001b[0;32m      1\u001b[0m \u001b[38;5;66;03m# Licensed under a 3-clause BSD style license - see LICENSE.rst\u001b[39;00m\n\u001b[1;32m----> 3\u001b[0m \u001b[38;5;28;01mfrom\u001b[39;00m \u001b[38;5;21;01m.\u001b[39;00m\u001b[38;5;21;01m.\u001b[39;00m\u001b[38;5;21;01mcommon\u001b[39;00m \u001b[38;5;28;01mimport\u001b[39;00m _reproject_dispatcher\n\u001b[0;32m      4\u001b[0m \u001b[38;5;28;01mfrom\u001b[39;00m \u001b[38;5;21;01m.\u001b[39;00m\u001b[38;5;21;01m.\u001b[39;00m\u001b[38;5;21;01mutils\u001b[39;00m \u001b[38;5;28;01mimport\u001b[39;00m parse_input_data, parse_output_projection\n\u001b[0;32m      5\u001b[0m \u001b[38;5;28;01mfrom\u001b[39;00m \u001b[38;5;21;01m.\u001b[39;00m\u001b[38;5;21;01mcore\u001b[39;00m \u001b[38;5;28;01mimport\u001b[39;00m _reproject_adaptive_2d\n",
      "File \u001b[1;32m\\\\?\\C:\\Users\\david\\AppData\\Roaming\\jupyterlab-desktop\\jlab_server\\Lib\\site-packages\\reproject\\common.py:7\u001b[0m\n\u001b[0;32m      4\u001b[0m \u001b[38;5;28;01mimport\u001b[39;00m \u001b[38;5;21;01muuid\u001b[39;00m\n\u001b[0;32m      6\u001b[0m \u001b[38;5;28;01mimport\u001b[39;00m \u001b[38;5;21;01mdask\u001b[39;00m\n\u001b[1;32m----> 7\u001b[0m \u001b[38;5;28;01mimport\u001b[39;00m \u001b[38;5;21;01mdask\u001b[39;00m\u001b[38;5;21;01m.\u001b[39;00m\u001b[38;5;21;01marray\u001b[39;00m \u001b[38;5;28;01mas\u001b[39;00m \u001b[38;5;21;01mda\u001b[39;00m\n\u001b[0;32m      8\u001b[0m \u001b[38;5;28;01mimport\u001b[39;00m \u001b[38;5;21;01mnumpy\u001b[39;00m \u001b[38;5;28;01mas\u001b[39;00m \u001b[38;5;21;01mnp\u001b[39;00m\n\u001b[0;32m      9\u001b[0m \u001b[38;5;28;01mfrom\u001b[39;00m \u001b[38;5;21;01mastropy\u001b[39;00m\u001b[38;5;21;01m.\u001b[39;00m\u001b[38;5;21;01mwcs\u001b[39;00m \u001b[38;5;28;01mimport\u001b[39;00m WCS\n",
      "File \u001b[1;32m\\\\?\\C:\\Users\\david\\AppData\\Roaming\\jupyterlab-desktop\\jlab_server\\Lib\\site-packages\\dask\\array\\__init__.py:355\u001b[0m\n\u001b[0;32m    333\u001b[0m \u001b[38;5;28;01mfrom\u001b[39;00m \u001b[38;5;21;01mnumpy\u001b[39;00m \u001b[38;5;28;01mimport\u001b[39;00m bool_ \u001b[38;5;28;01mas\u001b[39;00m \u001b[38;5;28mbool\u001b[39m\n\u001b[0;32m    334\u001b[0m \u001b[38;5;28;01mfrom\u001b[39;00m \u001b[38;5;21;01mnumpy\u001b[39;00m \u001b[38;5;28;01mimport\u001b[39;00m (\n\u001b[0;32m    335\u001b[0m     complex64,\n\u001b[0;32m    336\u001b[0m     complex128,\n\u001b[1;32m   (...)\u001b[0m\n\u001b[0;32m    352\u001b[0m     uint64,\n\u001b[0;32m    353\u001b[0m )\n\u001b[1;32m--> 355\u001b[0m \u001b[38;5;28;01mfrom\u001b[39;00m \u001b[38;5;21;01mdask\u001b[39;00m\u001b[38;5;21;01m.\u001b[39;00m\u001b[38;5;21;01marray\u001b[39;00m \u001b[38;5;28;01mimport\u001b[39;00m backends, fft, lib, linalg, ma, overlap, random\n\u001b[0;32m    356\u001b[0m \u001b[38;5;28;01mfrom\u001b[39;00m \u001b[38;5;21;01mdask\u001b[39;00m\u001b[38;5;21;01m.\u001b[39;00m\u001b[38;5;21;01marray\u001b[39;00m\u001b[38;5;21;01m.\u001b[39;00m\u001b[38;5;21;01m_shuffle\u001b[39;00m \u001b[38;5;28;01mimport\u001b[39;00m shuffle\n\u001b[0;32m    357\u001b[0m \u001b[38;5;28;01mfrom\u001b[39;00m \u001b[38;5;21;01mdask\u001b[39;00m\u001b[38;5;21;01m.\u001b[39;00m\u001b[38;5;21;01marray\u001b[39;00m\u001b[38;5;21;01m.\u001b[39;00m\u001b[38;5;21;01mblockwise\u001b[39;00m \u001b[38;5;28;01mimport\u001b[39;00m atop, blockwise\n",
      "File \u001b[1;32m\\\\?\\C:\\Users\\david\\AppData\\Roaming\\jupyterlab-desktop\\jlab_server\\Lib\\site-packages\\dask\\array\\backends.py:8\u001b[0m\n\u001b[0;32m      5\u001b[0m \u001b[38;5;28;01mimport\u001b[39;00m \u001b[38;5;21;01mnumpy\u001b[39;00m \u001b[38;5;28;01mas\u001b[39;00m \u001b[38;5;21;01mnp\u001b[39;00m\n\u001b[0;32m      7\u001b[0m \u001b[38;5;28;01mfrom\u001b[39;00m \u001b[38;5;21;01mdask\u001b[39;00m\u001b[38;5;21;01m.\u001b[39;00m\u001b[38;5;21;01marray\u001b[39;00m \u001b[38;5;28;01mimport\u001b[39;00m chunk\n\u001b[1;32m----> 8\u001b[0m \u001b[38;5;28;01mfrom\u001b[39;00m \u001b[38;5;21;01mdask\u001b[39;00m\u001b[38;5;21;01m.\u001b[39;00m\u001b[38;5;21;01marray\u001b[39;00m\u001b[38;5;21;01m.\u001b[39;00m\u001b[38;5;21;01mcore\u001b[39;00m \u001b[38;5;28;01mimport\u001b[39;00m Array\n\u001b[0;32m      9\u001b[0m \u001b[38;5;28;01mfrom\u001b[39;00m \u001b[38;5;21;01mdask\u001b[39;00m\u001b[38;5;21;01m.\u001b[39;00m\u001b[38;5;21;01marray\u001b[39;00m\u001b[38;5;21;01m.\u001b[39;00m\u001b[38;5;21;01mdispatch\u001b[39;00m \u001b[38;5;28;01mimport\u001b[39;00m (\n\u001b[0;32m     10\u001b[0m     concatenate_lookup,\n\u001b[0;32m     11\u001b[0m     divide_lookup,\n\u001b[1;32m   (...)\u001b[0m\n\u001b[0;32m     20\u001b[0m     to_numpy_dispatch,\n\u001b[0;32m     21\u001b[0m )\n\u001b[0;32m     22\u001b[0m \u001b[38;5;28;01mfrom\u001b[39;00m \u001b[38;5;21;01mdask\u001b[39;00m\u001b[38;5;21;01m.\u001b[39;00m\u001b[38;5;21;01marray\u001b[39;00m\u001b[38;5;21;01m.\u001b[39;00m\u001b[38;5;21;01mnumpy_compat\u001b[39;00m \u001b[38;5;28;01mimport\u001b[39;00m divide \u001b[38;5;28;01mas\u001b[39;00m np_divide\n",
      "File \u001b[1;32m\\\\?\\C:\\Users\\david\\AppData\\Roaming\\jupyterlab-desktop\\jlab_server\\Lib\\site-packages\\dask\\array\\core.py:100\u001b[0m\n\u001b[0;32m     97\u001b[0m \u001b[38;5;28;01mfrom\u001b[39;00m \u001b[38;5;21;01mdask\u001b[39;00m\u001b[38;5;21;01m.\u001b[39;00m\u001b[38;5;21;01mwidgets\u001b[39;00m \u001b[38;5;28;01mimport\u001b[39;00m get_template\n\u001b[0;32m     99\u001b[0m \u001b[38;5;28;01mtry\u001b[39;00m:\n\u001b[1;32m--> 100\u001b[0m     ARRAY_TEMPLATE \u001b[38;5;241m=\u001b[39m \u001b[43mget_template\u001b[49m\u001b[43m(\u001b[49m\u001b[38;5;124;43m\"\u001b[39;49m\u001b[38;5;124;43marray.html.j2\u001b[39;49m\u001b[38;5;124;43m\"\u001b[39;49m\u001b[43m)\u001b[49m\n\u001b[0;32m    101\u001b[0m \u001b[38;5;28;01mexcept\u001b[39;00m \u001b[38;5;167;01mImportError\u001b[39;00m:\n\u001b[0;32m    102\u001b[0m     ARRAY_TEMPLATE \u001b[38;5;241m=\u001b[39m \u001b[38;5;28;01mNone\u001b[39;00m\n",
      "File \u001b[1;32m\\\\?\\C:\\Users\\david\\AppData\\Roaming\\jupyterlab-desktop\\jlab_server\\Lib\\site-packages\\dask\\widgets\\widgets.py:38\u001b[0m, in \u001b[0;36mget_template\u001b[1;34m(name)\u001b[0m\n\u001b[0;32m     36\u001b[0m     \u001b[38;5;28;01mreturn\u001b[39;00m get_environment()\u001b[38;5;241m.\u001b[39mget_template(name)\n\u001b[0;32m     37\u001b[0m \u001b[38;5;28;01mexcept\u001b[39;00m TemplateNotFound \u001b[38;5;28;01mas\u001b[39;00m e:\n\u001b[1;32m---> 38\u001b[0m     \u001b[38;5;28;01mraise\u001b[39;00m TemplateNotFound(\n\u001b[0;32m     39\u001b[0m         \u001b[38;5;124mf\u001b[39m\u001b[38;5;124m\"\u001b[39m\u001b[38;5;124mUnable to find \u001b[39m\u001b[38;5;132;01m{\u001b[39;00mname\u001b[38;5;132;01m}\u001b[39;00m\u001b[38;5;124m in dask.widgets.TEMPLATE_PATHS \u001b[39m\u001b[38;5;132;01m{\u001b[39;00mTEMPLATE_PATHS\u001b[38;5;132;01m}\u001b[39;00m\u001b[38;5;124m\"\u001b[39m\n\u001b[0;32m     40\u001b[0m     ) \u001b[38;5;28;01mfrom\u001b[39;00m \u001b[38;5;21;01me\u001b[39;00m\n",
      "\u001b[1;31mTemplateNotFound\u001b[0m: Unable to find array.html.j2 in dask.widgets.TEMPLATE_PATHS ['\\\\\\\\?\\\\C:\\\\Users\\\\david\\\\AppData\\\\Roaming\\\\jupyterlab-desktop\\\\jlab_server\\\\Lib\\\\site-packages\\\\dask\\\\widgets\\\\templates']"
     ]
    }
   ],
   "source": [
    "import numpy as np\n",
    "import astropy as ast\n",
    "import scipy\n",
    "import astropy_healpix\n",
    "import dask\n",
    "import zarr\n",
    "import fsspec\n",
    "!python --version\n",
    "import reproject\n",
    "\n",
    "print(np.__version__)\n",
    "print(ast.__version__)\n",
    "print(scipy.__version__)\n",
    "print(astropy_healpix.__version__)\n",
    "print(dask.__version__)\n",
    "print(zarr.__version__)\n",
    "print(fsspec.__version__)\n",
    "#print(reproject.__version__)"
   ]
  },
  {
   "cell_type": "code",
   "execution_count": null,
   "id": "cfd09f65-6ee2-4bb3-9c97-870d25645c76",
   "metadata": {},
   "outputs": [],
   "source": []
  }
 ],
 "metadata": {
  "kernelspec": {
   "display_name": "Python 3 (ipykernel)",
   "language": "python",
   "name": "python3"
  },
  "language_info": {
   "codemirror_mode": {
    "name": "ipython",
    "version": 3
   },
   "file_extension": ".py",
   "mimetype": "text/x-python",
   "name": "python",
   "nbconvert_exporter": "python",
   "pygments_lexer": "ipython3",
   "version": "3.12.5"
  }
 },
 "nbformat": 4,
 "nbformat_minor": 5
}
